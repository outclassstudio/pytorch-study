{
 "cells": [
  {
   "cell_type": "markdown",
   "metadata": {},
   "source": [
    "- gpu를 이용한 동적 신경망 구축이 가능한 딥러닝 프레임워크\n",
    "- 텐서의 조작에 GPU를 이용한 병렬처리가 가능함\n",
    "- C나 CUDA등의 저수준의 고속 병렬처리가 가능하도록 구현\n",
    "- 중간 레벨은 C++\n",
    "- 탑레벨은 py api로 래핑한것\n",
    "- 수많은 모듈들이 py로 작동되도록 구현 되어있음"
   ]
  },
  {
   "cell_type": "markdown",
   "metadata": {},
   "source": [
    "### 파이토치의 구성 요소\n",
    "- `torch` : 메인 네임스페이스, 텐서 등의 다양한 함수가 포함\n",
    "- `torch.autograd` : 자동 미분 기능을 제공하는 라이브러리\n",
    "- `touch.nn` : 신경망 구축을 위한 데이터 구조나 레이어 등의 라이브러리\n",
    "- `touch.multiprocessing` : 병렬처리 기능을 제공하는 라이브러리\n",
    "- `torch.optim` : SGD(Stochastic Gradient Descent)를 중심으로 한 파라미터 최적화 알고리즘 제공\n",
    "- `torch.utils` : 데이터 조작 등 유틸리티 기능 제공\n",
    "- `torch.onnx` : ONNX(Open Neural Network Exchange), 서로 다른 프레임워크 간의 모델을 공유할 때 사용"
   ]
  },
  {
   "cell_type": "markdown",
   "metadata": {},
   "source": [
    "### 텐서(Tensors)\n",
    "- 데이터 표현을 위한 기본 구조로 텐서(tensor)를 사용\n",
    "- 다차원 데이터의 표현 방법\n",
    "- 텐서는 데이터르 담기 위한 컨테이너(container)로써 일반적으로 수치형 데이터를 저장\n",
    "  - 일종의 상자로 상상할 수 있음\n",
    "- 넘파이(NumPy)의 ndarray와 유사\n",
    "- GPU를 사용한 연산 가속 가능\n",
    "\n",
    "- 0차원 : 스칼라\n",
    "- 1차원 : 축이 하나\n",
    "- 2차원 : 축이 두개\n",
    "- 3차원 : 축이 세개\n",
    "- 4차원 : 3 * 3 * 3이 여러개\n",
    "  - 이미지는 3차원 텐서, 여러장의 이미지를 묶으면 4차원 텐서\n",
    "- 5차원 : 4차원이 여러개\n",
    "- 6차원 : 5차원이 여러개"
   ]
  },
  {
   "cell_type": "code",
   "execution_count": 3,
   "metadata": {},
   "outputs": [
    {
     "data": {
      "text/plain": [
       "'2.5.1'"
      ]
     },
     "execution_count": 3,
     "metadata": {},
     "output_type": "execute_result"
    }
   ],
   "source": [
    "import torch\n",
    "import numpy as np\n",
    "\n",
    "# pytorch 버전 확인\n",
    "torch.__version__"
   ]
  },
  {
   "cell_type": "markdown",
   "metadata": {},
   "source": [
    "### 초기화 되지 않은 텐서\n",
    "- 초기화? : 텐서에 특정 값을 채워서 생성하는 것"
   ]
  },
  {
   "cell_type": "code",
   "execution_count": 2,
   "metadata": {},
   "outputs": [
    {
     "name": "stdout",
     "output_type": "stream",
     "text": [
      "tensor([[-1.8576e+27,  1.6507e-42],\n",
      "        [ 0.0000e+00,  0.0000e+00],\n",
      "        [ 0.0000e+00,  0.0000e+00],\n",
      "        [ 0.0000e+00,  0.0000e+00]])\n"
     ]
    }
   ],
   "source": [
    "x = torch.empty(4,2) # 2d텐서 (row, column)\n",
    "print(x)"
   ]
  },
  {
   "cell_type": "markdown",
   "metadata": {},
   "source": [
    "### 무작위로 초기화된 텐서\n",
    "- 0과 1사이의 값으로 랜덤하게 초기화된 텐서 생성"
   ]
  },
  {
   "cell_type": "code",
   "execution_count": 3,
   "metadata": {},
   "outputs": [
    {
     "name": "stdout",
     "output_type": "stream",
     "text": [
      "tensor([[0.8338, 0.3923],\n",
      "        [0.9835, 0.0922],\n",
      "        [0.0935, 0.4413],\n",
      "        [0.7921, 0.3471]])\n"
     ]
    }
   ],
   "source": [
    "x = torch.rand(4,2)\n",
    "y = torch.randn(2,3)\n",
    "print(x, y)"
   ]
  },
  {
   "cell_type": "markdown",
   "metadata": {},
   "source": [
    "### 데이터 타입이 long이고 0으로 채워진 텐서"
   ]
  },
  {
   "cell_type": "code",
   "execution_count": 1,
   "metadata": {},
   "outputs": [
    {
     "ename": "NameError",
     "evalue": "name 'torch' is not defined",
     "output_type": "error",
     "traceback": [
      "\u001b[1;31m---------------------------------------------------------------------------\u001b[0m",
      "\u001b[1;31mNameError\u001b[0m                                 Traceback (most recent call last)",
      "Cell \u001b[1;32mIn[1], line 1\u001b[0m\n\u001b[1;32m----> 1\u001b[0m x \u001b[38;5;241m=\u001b[39m \u001b[43mtorch\u001b[49m\u001b[38;5;241m.\u001b[39mzeros(\u001b[38;5;241m4\u001b[39m,\u001b[38;5;241m2\u001b[39m, dtype\u001b[38;5;241m=\u001b[39mtorch\u001b[38;5;241m.\u001b[39mlong)\n\u001b[0;32m      2\u001b[0m y \u001b[38;5;241m=\u001b[39m torch\u001b[38;5;241m.\u001b[39mones(\u001b[38;5;241m2\u001b[39m,\u001b[38;5;241m4\u001b[39m, dtype\u001b[38;5;241m=\u001b[39mtorch\u001b[38;5;241m.\u001b[39mdouble)\n\u001b[0;32m      3\u001b[0m \u001b[38;5;28mprint\u001b[39m(x,y)\n",
      "\u001b[1;31mNameError\u001b[0m: name 'torch' is not defined"
     ]
    }
   ],
   "source": [
    "x = torch.zeros(4,2, dtype=torch.long)\n",
    "y = torch.ones(2,4, dtype=torch.double)\n",
    "print(x,y)"
   ]
  },
  {
   "cell_type": "markdown",
   "metadata": {},
   "source": [
    "### 1로 채워진 텐서, new_ones"
   ]
  },
  {
   "cell_type": "markdown",
   "metadata": {},
   "source": [
    "### 사용자가 입력한 값으로 텐서 초기화"
   ]
  },
  {
   "cell_type": "code",
   "execution_count": 5,
   "metadata": {},
   "outputs": [
    {
     "data": {
      "text/plain": [
       "tensor([3.0000, 2.3000])"
      ]
     },
     "execution_count": 5,
     "metadata": {},
     "output_type": "execute_result"
    }
   ],
   "source": [
    "x = torch.tensor([1, 2.5])\n",
    "print(x)"
   ]
  },
  {
   "cell_type": "code",
   "execution_count": 5,
   "metadata": {},
   "outputs": [
    {
     "name": "stdout",
     "output_type": "stream",
     "text": [
      "tensor([[1., 1., 1., 1.],\n",
      "        [1., 1., 1., 1.]], dtype=torch.float64)\n",
      "tensor([[1., 1.],\n",
      "        [1., 1.],\n",
      "        [1., 1.]], dtype=torch.float64)\n"
     ]
    }
   ],
   "source": [
    "x = torch.ones(2,4, dtype=torch.double)\n",
    "print(x)\n",
    "\n",
    "# new_ones는 기존의 텐서의 속성을 물려받음, 데이터 타입과 장치를 물려받음려받음\n",
    "y = x.new_ones(3,2)\n",
    "print(y)"
   ]
  },
  {
   "cell_type": "markdown",
   "metadata": {},
   "source": [
    "### 특정 텐서와 같은 타입, 무작위로 값을 채움\n",
    "- rand_like = 0~1사이 값\n",
    "- randn_like = 정규분포를 따름"
   ]
  },
  {
   "cell_type": "code",
   "execution_count": 6,
   "metadata": {},
   "outputs": [
    {
     "data": {
      "text/plain": [
       "tensor([[ 0.7429, -0.1402, -1.2425, -1.6350],\n",
       "        [ 0.2701,  0.4138,  1.5765, -0.3131]])"
      ]
     },
     "execution_count": 6,
     "metadata": {},
     "output_type": "execute_result"
    }
   ],
   "source": [
    "z = torch.randn_like(x, dtype=torch.float)\n",
    "z"
   ]
  },
  {
   "cell_type": "markdown",
   "metadata": {},
   "source": [
    "### Numpy에서 불러오기"
   ]
  },
  {
   "cell_type": "code",
   "execution_count": null,
   "metadata": {},
   "outputs": [],
   "source": [
    "data = [1,2,3,4]\n",
    "np_array = np.array(data)\n",
    "x_np = torch.from_numpy(np_array)\n"
   ]
  },
  {
   "cell_type": "markdown",
   "metadata": {},
   "source": [
    "### 텐서의 속성"
   ]
  },
  {
   "cell_type": "code",
   "execution_count": 12,
   "metadata": {},
   "outputs": [
    {
     "name": "stdout",
     "output_type": "stream",
     "text": [
      "torch.Size([2, 4])\n",
      "torch.float32\n",
      "cpu\n"
     ]
    }
   ],
   "source": [
    "tensor = torch.rand(3,4)\n",
    "print(tensor.size()) # 모양\n",
    "print(tensor.shape) # 모양\n",
    "print(tensor.dtype) # 자료형\n",
    "print(tensor.device) # 장치"
   ]
  },
  {
   "cell_type": "markdown",
   "metadata": {},
   "source": [
    "### 데이터 타입\n",
    "- 비트와 가질 수 있는 데이터 범위에 대한 설명"
   ]
  },
  {
   "cell_type": "markdown",
   "metadata": {},
   "source": [
    "### 특정 데이터 타입의 텐서 생성"
   ]
  },
  {
   "cell_type": "code",
   "execution_count": 19,
   "metadata": {},
   "outputs": [
    {
     "name": "stdout",
     "output_type": "stream",
     "text": [
      "torch.float32\n",
      "torch.float32\n"
     ]
    }
   ],
   "source": [
    "ft = torch.FloatTensor([1,2,3])\n",
    "print(ft.dtype)\n",
    "tensor = torch.tensor([1,2,3], dtype=torch.float32)\n",
    "print(tensor.dtype)"
   ]
  },
  {
   "cell_type": "markdown",
   "metadata": {},
   "source": [
    "### 데이터 타입 캐스팅"
   ]
  },
  {
   "cell_type": "code",
   "execution_count": 22,
   "metadata": {},
   "outputs": [
    {
     "name": "stdout",
     "output_type": "stream",
     "text": [
      "tensor([1, 2, 3], dtype=torch.int16)\n",
      "tensor([1, 2, 3], dtype=torch.int32)\n",
      "tensor([1, 2, 3])\n"
     ]
    }
   ],
   "source": [
    "ft = torch.FloatTensor([1,2,3])\n",
    "print(ft.short())\n",
    "print(ft.int())\n",
    "print(ft.long()) \n",
    "\n",
    "it = torch.IntTensor([1,2,3])\n",
    "print(it)\n",
    "print(it.float()) \n",
    "print(it.double())\n",
    "print(it.half())"
   ]
  },
  {
   "cell_type": "code",
   "execution_count": 24,
   "metadata": {},
   "outputs": [
    {
     "name": "stdout",
     "output_type": "stream",
     "text": [
      "tensor([1, 2, 3], dtype=torch.int32)\n",
      "tensor([1., 2., 3.])\n",
      "tensor([1., 2., 3.], dtype=torch.float64)\n",
      "tensor([1., 2., 3.], dtype=torch.float16)\n"
     ]
    }
   ],
   "source": []
  },
  {
   "cell_type": "markdown",
   "metadata": {},
   "source": [
    "### CUDA Tensor"
   ]
  },
  {
   "cell_type": "code",
   "execution_count": 30,
   "metadata": {},
   "outputs": [
    {
     "name": "stdout",
     "output_type": "stream",
     "text": [
      "tensor([-0.3144])\n",
      "-0.31437253952026367\n",
      "torch.float32\n",
      "cpu\n"
     ]
    },
    {
     "data": {
      "text/plain": [
       "tensor([0.6856])"
      ]
     },
     "execution_count": 30,
     "metadata": {},
     "output_type": "execute_result"
    }
   ],
   "source": [
    "x = torch.randn(1)\n",
    "print(x)\n",
    "print(x.item())\n",
    "print(x.dtype)\n",
    "\n",
    "if torch.cuda.is_available():\n",
    "  tensor = tensor.to(\"cuda\")\n",
    "\n",
    "# 보통은 아래와 같이 사용\n",
    "device = torch.device(\"cuda\" if torch.cuda.is_available() else \"cpu\")\n",
    "tensor = tensor.to(device)\n",
    "print(device)\n",
    "\n",
    "y = torch.ones_like(x, device=device)\n",
    "\n",
    "# 디바이스 변경 가능\n",
    "x = x.to(device)\n",
    "z = x+y\n",
    "z.to(\"cpu\", torch.double)\n",
    "z"
   ]
  },
  {
   "cell_type": "markdown",
   "metadata": {},
   "source": [
    "## 다차원 텐서 표현\n",
    "- `tensor.ndim` : 차원 정보\n",
    "- `tensor.shape` : 형상"
   ]
  },
  {
   "cell_type": "markdown",
   "metadata": {},
   "source": [
    "### 0D Tensor(Scalar)\n",
    "- 하나의 숫자를 담고 있는 텐서\n",
    "- 축과 형상이 없음"
   ]
  },
  {
   "cell_type": "code",
   "execution_count": 34,
   "metadata": {},
   "outputs": [
    {
     "name": "stdout",
     "output_type": "stream",
     "text": [
      "0\n",
      "torch.Size([])\n",
      "tensor(0)\n"
     ]
    }
   ],
   "source": [
    "# 0D Tensor(Scalar)\n",
    "t0 = torch.tensor(0)\n",
    "print(t0.ndim)\n",
    "print(t0.shape)\n",
    "print(t0)"
   ]
  },
  {
   "cell_type": "markdown",
   "metadata": {},
   "source": [
    "### 1D Tensor(Vector)\n",
    "- 값들을 저장한 리스트와 유사한 텐서\n",
    "- 하나의 축이 존재"
   ]
  },
  {
   "cell_type": "code",
   "execution_count": 33,
   "metadata": {},
   "outputs": [
    {
     "name": "stdout",
     "output_type": "stream",
     "text": [
      "1\n",
      "torch.Size([3])\n",
      "tensor([1, 2, 3])\n"
     ]
    }
   ],
   "source": [
    "# 1D Tensor(Vector)\n",
    "t1 = torch.tensor([1,2,3])\n",
    "print(t1.ndim)\n",
    "print(t1.shape)\n",
    "print(t1)"
   ]
  },
  {
   "cell_type": "markdown",
   "metadata": {},
   "source": [
    "### 2D Tensor(Matrix)\n",
    "- 행렬과 같은 모양으로 두개의 축이 존재\n",
    "- 일반적인 수치, 통계 데이터셋\n",
    "- 주로 샘플과 특성을 가진 구조로 사용"
   ]
  },
  {
   "cell_type": "code",
   "execution_count": 35,
   "metadata": {},
   "outputs": [
    {
     "name": "stdout",
     "output_type": "stream",
     "text": [
      "2\n",
      "torch.Size([2, 3])\n",
      "tensor([[1, 2, 3],\n",
      "        [4, 5, 6]])\n"
     ]
    }
   ],
   "source": [
    "t2 = torch.tensor([[1,2,3],\n",
    "                   [4,5,6],\n",
    "                   [7,8,9]])\n",
    "print(t2.ndim)\n",
    "print(t2.shape)\n",
    "print(t2)"
   ]
  },
  {
   "cell_type": "markdown",
   "metadata": {},
   "source": [
    "### 3D Tensor\n",
    "- 큐브(cube)와 같은 모양으로 세개의 축이 존재\n",
    "- 데이터가 연속된 시퀀스 데이터나 시간 축이 포함된 시계열 데이터에 해당\n",
    "- 주식 가격 데이터셋, 시간에 따른 질병 발병 데이터 등이 존재\n",
    "- 주로 샘플, 타입스텝, 특성을 가진 구조로 사용"
   ]
  },
  {
   "cell_type": "code",
   "execution_count": 36,
   "metadata": {},
   "outputs": [
    {
     "name": "stdout",
     "output_type": "stream",
     "text": [
      "3\n",
      "torch.Size([3, 3, 3])\n",
      "tensor([[[1, 2, 3],\n",
      "         [4, 5, 6],\n",
      "         [7, 8, 9]],\n",
      "\n",
      "        [[1, 2, 3],\n",
      "         [4, 5, 6],\n",
      "         [7, 8, 9]],\n",
      "\n",
      "        [[1, 2, 3],\n",
      "         [4, 5, 6],\n",
      "         [7, 8, 9]]])\n"
     ]
    }
   ],
   "source": [
    "t3 = torch.tensor([[[1,2,3],\n",
    "                    [4,5,6],\n",
    "                    [7,8,9]],\n",
    "                   [[1,2,3],\n",
    "                    [4,5,6],\n",
    "                    [7,8,9]],\n",
    "                   [[1,2,3],\n",
    "                    [4,5,6],\n",
    "                    [7,8,9]]])\n",
    "print(t3.ndim)\n",
    "print(t3.shape)\n",
    "print(t3)"
   ]
  },
  {
   "cell_type": "markdown",
   "metadata": {},
   "source": [
    "### 4D Tensor\n",
    "- 4개의 축\n",
    "- 컬러 이미지가 대표적인 사례(흑백 이미지 데이터는 3D Tensor로 가능능)\n",
    "- 주로 샘플, 높이, 너비, 컬러 채널을 가진 구조로 사용"
   ]
  },
  {
   "cell_type": "markdown",
   "metadata": {},
   "source": [
    "### 5D Tensor\n",
    "- 5개의 축\n",
    "- 비디오 데이터가 대표적인 사례\n",
    "- 주로 샘플, 프레임, 높이, 너비, 컬러 채널을 가진 구조로 사용"
   ]
  }
 ],
 "metadata": {
  "kernelspec": {
   "display_name": "Python 3",
   "language": "python",
   "name": "python3"
  },
  "language_info": {
   "codemirror_mode": {
    "name": "ipython",
    "version": 3
   },
   "file_extension": ".py",
   "mimetype": "text/x-python",
   "name": "python",
   "nbconvert_exporter": "python",
   "pygments_lexer": "ipython3",
   "version": "3.12.8"
  }
 },
 "nbformat": 4,
 "nbformat_minor": 2
}
