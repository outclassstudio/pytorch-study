{
 "cells": [
  {
   "cell_type": "code",
   "execution_count": null,
   "metadata": {},
   "outputs": [],
   "source": [
    "import io\n",
    "import contextlib\n",
    "\n",
    "def check_answer(user_code: str, expected_output):\n",
    "    # 1. 출력값을 캡처하기 위해 StringIO 객체 생성\n",
    "    output = io.StringIO()\n",
    "    \n",
    "    try:\n",
    "        # 2. stdout 리디렉션\n",
    "        with contextlib.redirect_stdout(output):\n",
    "            # 3. 사용자의 코드를 실행\n",
    "            exec(user_code)\n",
    "        \n",
    "        # 4. 실행 결과 가져오기\n",
    "        actual_output = output.getvalue().strip()  # 공백 제거\n",
    "        \n",
    "        # 5. 정답 비교\n",
    "        if actual_output == expected_output:\n",
    "            return \"정답입니다!\"\n",
    "        else:\n",
    "            return f\"오답입니다. 예상 출력: {expected_output}, 실제 출력: {actual_output}\"\n",
    "    except Exception as e:\n",
    "        # 오류 발생 시\n",
    "        return f\"코드 실행 중 오류 발생: {e}\"\n",
    "    finally:\n",
    "        # StringIO 객체 닫기\n",
    "        output.close()\n",
    "\n",
    "# 사용 예제\n",
    "user_code = \"\"\"\n",
    "print(2 + 2)\n",
    "\"\"\"\n",
    "expected_output = \"4\"\n",
    "result = check_answer(user_code, expected_output)\n",
    "print(result)\n"
   ]
  }
 ],
 "metadata": {
  "language_info": {
   "name": "python"
  }
 },
 "nbformat": 4,
 "nbformat_minor": 2
}
