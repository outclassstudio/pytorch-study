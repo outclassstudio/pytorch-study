{
 "cells": [
  {
   "cell_type": "code",
   "execution_count": null,
   "metadata": {},
   "outputs": [],
   "source": [
    "#1\n",
    "import torch\n",
    "\n",
    "x = torch.tensor([[1, 2, 3], [4, 5, 6]])\n",
    "result = x.view(3, 2)\n",
    "print(result)"
   ]
  },
  {
   "cell_type": "code",
   "execution_count": null,
   "metadata": {},
   "outputs": [],
   "source": [
    "#2\n",
    "x = torch.tensor(42)\n",
    "value = x.item()\n",
    "print(value)  # 42\n",
    "print(type(value))  # <class 'int'>"
   ]
  },
  {
   "cell_type": "code",
   "execution_count": null,
   "metadata": {},
   "outputs": [],
   "source": [
    "#3\n",
    "x = torch.tensor([[[1, 2, 3]]])\n",
    "result = torch.squeeze(x)\n",
    "print(result)\n"
   ]
  },
  {
   "cell_type": "code",
   "execution_count": null,
   "metadata": {},
   "outputs": [],
   "source": [
    "#4\n",
    "x = torch.tensor([1, 2, 3])\n",
    "result = torch.unsqueeze(x, dim=0)\n",
    "print(result)"
   ]
  },
  {
   "cell_type": "code",
   "execution_count": null,
   "metadata": {},
   "outputs": [],
   "source": [
    "#5\n",
    "a = torch.tensor([1, 2])\n",
    "b = torch.tensor([3, 4])\n",
    "result = torch.stack((a, b))\n",
    "print(result)"
   ]
  },
  {
   "cell_type": "code",
   "execution_count": null,
   "metadata": {},
   "outputs": [],
   "source": [
    "#6\n",
    "a = torch.tensor([[1, 2], [3, 4]])\n",
    "b = torch.tensor([[5, 6], [7, 8]])\n",
    "result = torch.cat((a, b), dim=1)\n",
    "print(result)\n"
   ]
  },
  {
   "cell_type": "code",
   "execution_count": null,
   "metadata": {},
   "outputs": [],
   "source": [
    "#7\n",
    "x = torch.tensor([[1, 2, 3], [4, 5, 6]])\n",
    "result = torch.chunk(x, chunks=2, dim=0)\n",
    "for i, r in enumerate(result):\n",
    "    print(f\"Chunk {i}: {r}\")"
   ]
  },
  {
   "cell_type": "code",
   "execution_count": null,
   "metadata": {},
   "outputs": [],
   "source": [
    "#8\n",
    "x = torch.tensor([1, 2, 3, 4, 5])\n",
    "result = torch.split(x, split_size_or_sections=[2, 2, 1])\n",
    "for i, r in enumerate(result):\n",
    "    print(f\"Split {i}: {r}\")"
   ]
  },
  {
   "cell_type": "code",
   "execution_count": null,
   "metadata": {},
   "outputs": [],
   "source": [
    "#9\n",
    "x = torch.tensor([[1, 2], [3, 4], [5, 6]])\n",
    "\n",
    "# 1. 열 기준으로 크기 1씩 나누기\n",
    "split_result = torch.split(x, split_size_or_sections=1, dim=1)\n",
    "\n",
    "# 2. 새로운 축에 쌓기\n",
    "stack_result = torch.stack(split_result, dim=0)\n",
    "\n",
    "print(\"Split Result:\")\n",
    "for i, r in enumerate(split_result):\n",
    "    print(f\"Split {i}: {r}\")\n",
    "\n",
    "print(\"\\nStack Result:\")\n",
    "print(stack_result)\n"
   ]
  },
  {
   "cell_type": "code",
   "execution_count": null,
   "metadata": {},
   "outputs": [],
   "source": [
    "#10\n",
    "import torch\n",
    "\n",
    "a = torch.tensor([[1, 2], [3, 4]])\n",
    "b = torch.tensor([[5, 6], [7, 8]])\n",
    "\n",
    "# 1. dim=1로 연결\n",
    "cat_result = torch.cat((a, b), dim=1)\n",
    "print(\"Step 1: Concatenated Tensor:\")\n",
    "print(cat_result)\n",
    "\n",
    "# 2. 크기 (4, 2)로 변환\n",
    "reshaped = cat_result.view(4, 2)\n",
    "print(\"\\nStep 2: Reshaped Tensor:\")\n",
    "print(reshaped)\n",
    "\n",
    "# 3. 2개의 조각으로 나누고 0번 축으로 스택\n",
    "split_result = torch.chunk(reshaped, chunks=2, dim=0)\n",
    "stacked_result = torch.stack(split_result, dim=0)\n",
    "print(\"\\nStep 3: Stacked Result:\")\n",
    "print(stacked_result)"
   ]
  }
 ],
 "metadata": {
  "kernelspec": {
   "display_name": "torch_env",
   "language": "python",
   "name": "python3"
  },
  "language_info": {
   "name": "python",
   "version": "3.12.8"
  }
 },
 "nbformat": 4,
 "nbformat_minor": 2
}
