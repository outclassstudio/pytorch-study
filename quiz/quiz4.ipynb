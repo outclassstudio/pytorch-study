{
 "cells": [
  {
   "cell_type": "code",
   "execution_count": null,
   "metadata": {},
   "outputs": [],
   "source": [
    "import torch\n",
    "print(\"setting complete.\")"
   ]
  },
  {
   "cell_type": "markdown",
   "metadata": {},
   "source": [
    "### 문제1\n",
    "- 2차원 텐서 [[1, 2, 3], [4, 5, 6]]를 3x2 텐서로 변환해서 출력하세요."
   ]
  },
  {
   "cell_type": "code",
   "execution_count": null,
   "metadata": {},
   "outputs": [],
   "source": [
    "# 여기에 코드를 작성합니다"
   ]
  },
  {
   "cell_type": "markdown",
   "metadata": {},
   "source": [
    "### 문제2\n",
    "- 단일 값 텐서 tensor(42)에서 값을 추출하고 데이터 타입을 확인해서 출력하세요."
   ]
  },
  {
   "cell_type": "code",
   "execution_count": null,
   "metadata": {},
   "outputs": [],
   "source": [
    "# 여기에 코드를 작성합니다\n",
    "# (1) 값을 추출하고\n",
    "# (2) 데이터 타입을 확인하세요."
   ]
  },
  {
   "cell_type": "markdown",
   "metadata": {},
   "source": [
    "### 문제 3\n",
    "- 3차원 텐서 [[[1, 2, 3]]]에서 크기가 1인 차원을 제거해서 출력하세요."
   ]
  },
  {
   "cell_type": "code",
   "execution_count": null,
   "metadata": {},
   "outputs": [],
   "source": [
    "# 여기에 코드를 작성합니다"
   ]
  },
  {
   "cell_type": "markdown",
   "metadata": {},
   "source": [
    "### 문제 4\n",
    "- 1차원 텐서 [1, 2, 3]에 새로운 차원을 추가하여 2차원 텐서로 만들어 출력하세요."
   ]
  },
  {
   "cell_type": "code",
   "execution_count": null,
   "metadata": {},
   "outputs": [],
   "source": [
    "# 여기에 코드를 작성합니다"
   ]
  },
  {
   "cell_type": "markdown",
   "metadata": {},
   "source": [
    "### 문제 5\n",
    "- 두 텐서 a = [1, 2]와 b = [3, 4]를 쌓아 2x2 텐서를 생성해서 출력하세요.\n"
   ]
  },
  {
   "cell_type": "code",
   "execution_count": null,
   "metadata": {},
   "outputs": [],
   "source": [
    "# 여기에 코드를 작성합니다"
   ]
  },
  {
   "cell_type": "markdown",
   "metadata": {},
   "source": [
    "### 문제 6\n",
    "- 두 텐서 a = [[1, 2], [3, 4]]와 b = [[5, 6], [7, 8]]를 열 방향으로 연결해서 출력하세요."
   ]
  },
  {
   "cell_type": "code",
   "execution_count": null,
   "metadata": {},
   "outputs": [],
   "source": [
    "# 여기에 코드를 작성합니다"
   ]
  },
  {
   "cell_type": "markdown",
   "metadata": {},
   "source": [
    "### 문제 7\n",
    "- 텐서 [[1, 2, 3], [4, 5, 6]]를 2개의 조각으로 나눠서 출력해보세요. (행 기준)."
   ]
  },
  {
   "cell_type": "code",
   "execution_count": null,
   "metadata": {},
   "outputs": [],
   "source": [
    "# 여기에 코드를 작성합니다"
   ]
  },
  {
   "cell_type": "markdown",
   "metadata": {},
   "source": [
    "### 문제8\n",
    "- 텐서 [1, 2, 3, 4, 5]를 각각 2, 2, 1의 크기로 나눠서 출력해보세요."
   ]
  },
  {
   "cell_type": "code",
   "execution_count": null,
   "metadata": {},
   "outputs": [],
   "source": [
    "# 여기에 코드를 작성합니다"
   ]
  },
  {
   "cell_type": "markdown",
   "metadata": {},
   "source": [
    "### 문제9\n",
    "- 텐서 [[1, 2], [3, 4], [5, 6]]에서:\n",
    "- 열 기준으로 크기 1씩 나누세요.\n",
    "- 각각의 조각을 새로운 축에 쌓은 후 출력해보세요."
   ]
  },
  {
   "cell_type": "code",
   "execution_count": null,
   "metadata": {},
   "outputs": [],
   "source": [
    "# 여기에 코드를 작성합니다\n",
    "# 1. 열 기준으로 크기 1씩 나누기\n",
    "# 2. 새로운 축에 쌓기\n",
    "\n"
   ]
  },
  {
   "cell_type": "markdown",
   "metadata": {},
   "source": [
    "### 문제10\n",
    "- 다음 텐서를 활용해서 아래 문제를 해결해보세요\n",
    "  ```\n",
    "  a = torch.tensor([[1, 2], [3, 4]])\n",
    "  b = torch.tensor([[5, 6], [7, 8]])\n",
    "  ```\n",
    "\n",
    "1. 두 텐서를 열 기준으로 연결하고 결과를 출력하세요.\n",
    "2. 연결된 텐서를 크기 `(4, 2)`로 변환하세요.\n",
    "3. 변환된 텐서를 2개의 조각으로 나누고, 각 조각을 0번 축으로 스택하여 출력하세요.\n"
   ]
  },
  {
   "cell_type": "code",
   "execution_count": null,
   "metadata": {},
   "outputs": [],
   "source": [
    "# 여기에 코드를 작성합니다\n",
    "# 1. 열 기준으로 병합\n",
    "# 2. 크기 (4, 2)로 변환\n",
    "# 3. 2개의 조각으로 나누고\n",
    "# 4. 0번 축으로 스택"
   ]
  }
 ],
 "metadata": {
  "kernelspec": {
   "display_name": "torch_env",
   "language": "python",
   "name": "python3"
  },
  "language_info": {
   "codemirror_mode": {
    "name": "ipython",
    "version": 3
   },
   "file_extension": ".py",
   "mimetype": "text/x-python",
   "name": "python",
   "nbconvert_exporter": "python",
   "pygments_lexer": "ipython3",
   "version": "3.12.8"
  }
 },
 "nbformat": 4,
 "nbformat_minor": 2
}
