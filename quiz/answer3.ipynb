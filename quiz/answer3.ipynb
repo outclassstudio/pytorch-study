{
 "cells": [
  {
   "cell_type": "code",
   "execution_count": null,
   "metadata": {},
   "outputs": [],
   "source": [
    "#1\n",
    "print(t[0, 1])  # 출력: 2\n",
    "print(t[2, 0])  # 출력: 7"
   ]
  },
  {
   "cell_type": "code",
   "execution_count": null,
   "metadata": {},
   "outputs": [],
   "source": [
    "#2\n",
    "print(t[0:2, :])  # 출력: [[1, 2, 3], [4, 5, 6]]\n",
    "print(t[:, 0])    # 출력: [1, 4, 7]"
   ]
  },
  {
   "cell_type": "code",
   "execution_count": null,
   "metadata": {},
   "outputs": [],
   "source": [
    "#3\n",
    "print(t[-3:])  # 출력: [4, 5, 6]"
   ]
  },
  {
   "cell_type": "code",
   "execution_count": null,
   "metadata": {},
   "outputs": [],
   "source": [
    "#4\n",
    "print(t[t > 0])         # 출력: [1, 3, 5, 7, 9]\n",
    "print(t[t % 3 == 0])    # 출력: [3, 9]"
   ]
  },
  {
   "cell_type": "code",
   "execution_count": null,
   "metadata": {},
   "outputs": [],
   "source": [
    "#5\n",
    "t[1, :] = 0\n",
    "print(t)\n",
    "# 출력: [[1, 2, 3], [0, 0, 0], [7, 8, 9]]"
   ]
  },
  {
   "cell_type": "code",
   "execution_count": null,
   "metadata": {},
   "outputs": [],
   "source": [
    "#6\n",
    "print(t[[0, 1, 2], [1, 2, 0]])  # 출력: [2, 6, 7]\n",
    "print(t[1:3, [0, 2]])           # 출력: [[4, 6], [7, 9]]"
   ]
  },
  {
   "cell_type": "code",
   "execution_count": null,
   "metadata": {},
   "outputs": [],
   "source": [
    "#7\n",
    "print(t[1:3, 1:3])  # 출력: [[6, 7], [10, 11]]"
   ]
  }
 ],
 "metadata": {
  "kernelspec": {
   "display_name": "torch_env",
   "language": "python",
   "name": "python3"
  },
  "language_info": {
   "name": "python",
   "version": "3.12.8"
  }
 },
 "nbformat": 4,
 "nbformat_minor": 2
}
