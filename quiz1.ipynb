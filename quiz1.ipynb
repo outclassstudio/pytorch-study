{
 "cells": [
  {
   "cell_type": "markdown",
   "metadata": {},
   "source": [
    "## PyTorch Quiz 1 : Tensor 초기화"
   ]
  },
  {
   "cell_type": "markdown",
   "metadata": {},
   "source": [
    "### 1. 빈 Tensor 생성하기\n",
    "다음 조건에 맞는 Tensor를 생성하세요.\n",
    "- 3x4 크기의 Tensor\n",
    "- 값이 초기화되지 않은 상태"
   ]
  },
  {
   "cell_type": "code",
   "execution_count": null,
   "metadata": {},
   "outputs": [],
   "source": [
    "# 여기에 코드를 작성합니다"
   ]
  },
  {
   "cell_type": "markdown",
   "metadata": {},
   "source": [
    "### 2. 0으로 채워진 Tensor 생성하기\n",
    "다음과 같은 Tensor를 생성하세요.\n",
    "- 2x5x3 크기의 Tensor\n",
    "- 데이터 타입은 float64"
   ]
  },
  {
   "cell_type": "code",
   "execution_count": null,
   "metadata": {},
   "outputs": [],
   "source": [
    "# 여기에 코드를 작성합니다"
   ]
  },
  {
   "cell_type": "markdown",
   "metadata": {},
   "source": [
    "### 3. 1로 채워진 Tensor 생성하기\n",
    "다음 조건에 맞는 Tensor를 생성하세요.\n",
    "- 4x4 크기의 Tensor\n",
    "- 데이터 타입은 int"
   ]
  },
  {
   "cell_type": "code",
   "execution_count": null,
   "metadata": {},
   "outputs": [],
   "source": [
    "# 여기에 코드를 작성합니다"
   ]
  },
  {
   "cell_type": "markdown",
   "metadata": {},
   "source": [
    "### 4. 랜덤 값으로 채워진 Tensor 생성하기\n",
    "다음 조건에 맞는 Tensor를 생성하세요.\n",
    "- 3x3 크기의 Tensor\n",
    "- 모든 값이 0과 1 사이의 랜덤 값"
   ]
  },
  {
   "cell_type": "code",
   "execution_count": null,
   "metadata": {},
   "outputs": [],
   "source": [
    "# 여기에 코드를 작성합니다"
   ]
  },
  {
   "cell_type": "markdown",
   "metadata": {},
   "source": [
    "### 5. 다차원 Tensor 생성하기\n",
    "다음과 같은 다차원 Tensor를 생성하세요.\n",
    "- 값이 다음과 같은 2x3의 2D 배열\n",
    "    ```\n",
    "    [[1, 2, 3],\n",
    "     [4, 5, 6]]\n",
    "    ```"
   ]
  },
  {
   "cell_type": "code",
   "execution_count": null,
   "metadata": {},
   "outputs": [],
   "source": [
    "# 여기에 코드를 작성합니다"
   ]
  },
  {
   "cell_type": "markdown",
   "metadata": {},
   "source": [
    "### 6. Tensor의 값을 변경하기\n",
    "1. 표준정규분포의 값을 랜덤으로 갖는 2x2 Tensor를 생성하세요.\n",
    "2. 생성된 Tensor의 값을 모두 0으로 바꿔보세요. "
   ]
  },
  {
   "cell_type": "code",
   "execution_count": null,
   "metadata": {},
   "outputs": [],
   "source": [
    "# 여기에 코드를 작성합니다"
   ]
  },
  {
   "cell_type": "code",
   "execution_count": null,
   "metadata": {},
   "outputs": [],
   "source": [
    "import torch\n",
    "\n",
    "# 빈 Tensor 생성\n",
    "tensor_empty = torch.empty(3, 4)\n",
    "print(tensor_empty)\n"
   ]
  },
  {
   "cell_type": "code",
   "execution_count": null,
   "metadata": {},
   "outputs": [],
   "source": [
    "# 0으로 채워진 Tensor 생성\n",
    "tensor_zeros = torch.zeros(2, 5, 3, dtype=torch.float64)\n",
    "print(tensor_zeros)\n"
   ]
  },
  {
   "cell_type": "code",
   "execution_count": null,
   "metadata": {},
   "outputs": [],
   "source": [
    "# 1로 채워진 Tensor 생성\n",
    "tensor_ones = torch.ones(4, 4, dtype=torch.int)\n",
    "print(tensor_ones)\n"
   ]
  },
  {
   "cell_type": "code",
   "execution_count": null,
   "metadata": {},
   "outputs": [],
   "source": [
    "# 랜덤 값으로 채워진 Tensor 생성\n",
    "tensor_rand = torch.rand(3, 3)\n",
    "print(tensor_rand)\n"
   ]
  },
  {
   "cell_type": "code",
   "execution_count": null,
   "metadata": {},
   "outputs": [],
   "source": [
    "# 다차원 Tensor 생성\n",
    "tensor_multidim = torch.tensor([[1, 2, 3], [4, 5, 6]])\n",
    "print(tensor_multidim)\n"
   ]
  },
  {
   "cell_type": "code",
   "execution_count": null,
   "metadata": {},
   "outputs": [],
   "source": [
    "import torch\n",
    "\n",
    "# 1. 2x2 크기의 0으로 채워진 Tensor 생성\n",
    "tensor_zeros = torch.zeros(2, 2)\n",
    "print(\"Initial Tensor (filled with zeros):\")\n",
    "print(tensor_zeros)\n",
    "\n",
    "# 2. 값을 랜덤 값으로 변경 (크기를 유지)\n",
    "tensor_rand_like = torch.zeros_like(tensor_zeros)\n",
    "print(\"\\nTensor after replacing values with random numbers using rand_like:\")\n",
    "print(tensor_rand_like)\n"
   ]
  }
 ],
 "metadata": {
  "language_info": {
   "name": "python"
  }
 },
 "nbformat": 4,
 "nbformat_minor": 2
}
