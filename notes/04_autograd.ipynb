{
 "cells": [
  {
   "cell_type": "markdown",
   "metadata": {},
   "source": [
    "## 04. Autograd(자동 미분)\n",
    "- `torch.autograd` 패키지는 Tensor의 모든 연산에 대해 자동 미분(Auto Differentiation)\n",
    "- 이는 코드를 어떻게 실행하느냐에 따라 역전파가 정의된다는 뜻\n",
    "- backprop을 위해 미분값을 자동으로 계산"
   ]
  },
  {
   "cell_type": "markdown",
   "metadata": {},
   "source": [
    "`required_grad` 속성을 `True`로 설정하면, 해당 텐서에서 이루어지는 모든 연산들을 추적하기 시작\n",
    "기록을 추적하는 것을 중단하려면 `.detach()를` 호출하여 연산 기록으로부터 분리"
   ]
  },
  {
   "cell_type": "code",
   "execution_count": null,
   "metadata": {},
   "outputs": [],
   "source": [
    "import torch"
   ]
  },
  {
   "cell_type": "code",
   "execution_count": 2,
   "metadata": {},
   "outputs": [
    {
     "name": "stdout",
     "output_type": "stream",
     "text": [
      "tensor([[ 1.7793, -0.7207, -1.2142],\n",
      "        [ 8.5825,  0.7096,  4.8369],\n",
      "        [ 3.6289, -0.1863,  3.0231]])\n",
      "False\n"
     ]
    }
   ],
   "source": [
    "a = torch.randn(3,3)\n",
    "a = a * 3\n",
    "print(a)\n",
    "print(a.requires_grad)"
   ]
  },
  {
   "cell_type": "markdown",
   "metadata": {},
   "source": [
    "`required_grad_`는 기존 텐서의 `required_grad`값을 바꿔치기(in-place)하여 변경\n",
    "`grad_fn`: 미분값을 계산한 함수에 대한 정보 저장(어떤 함수에 대해서 backprop을 했는지)"
   ]
  },
  {
   "cell_type": "code",
   "execution_count": 4,
   "metadata": {},
   "outputs": [
    {
     "name": "stdout",
     "output_type": "stream",
     "text": [
      "True\n",
      "tensor(125.0605, grad_fn=<SumBackward0>)\n",
      "<SumBackward0 object at 0x000001913A39B430>\n"
     ]
    }
   ],
   "source": [
    "a.requires_grad_(True) # 인플레이스 연산\n",
    "print(a.requires_grad)\n",
    "\n",
    "b = (a * a).sum()\n",
    "print(b)\n",
    "print(b.grad_fn)"
   ]
  },
  {
   "cell_type": "markdown",
   "metadata": {},
   "source": [
    "### 기울기(Gradient)"
   ]
  },
  {
   "cell_type": "code",
   "execution_count": 5,
   "metadata": {},
   "outputs": [
    {
     "data": {
      "text/plain": [
       "tensor([[1., 1., 1.],\n",
       "        [1., 1., 1.],\n",
       "        [1., 1., 1.]], requires_grad=True)"
      ]
     },
     "execution_count": 5,
     "metadata": {},
     "output_type": "execute_result"
    }
   ],
   "source": [
    "x = torch.ones(3,3,requires_grad=True)\n",
    "x"
   ]
  },
  {
   "cell_type": "code",
   "execution_count": 6,
   "metadata": {},
   "outputs": [
    {
     "name": "stdout",
     "output_type": "stream",
     "text": [
      "tensor([[6., 6., 6.],\n",
      "        [6., 6., 6.],\n",
      "        [6., 6., 6.]], grad_fn=<AddBackward0>)\n"
     ]
    }
   ],
   "source": [
    "y = x + 5\n",
    "print(y)"
   ]
  },
  {
   "cell_type": "code",
   "execution_count": 8,
   "metadata": {},
   "outputs": [
    {
     "name": "stdout",
     "output_type": "stream",
     "text": [
      "tensor([[36., 36., 36.],\n",
      "        [36., 36., 36.],\n",
      "        [36., 36., 36.]], grad_fn=<MulBackward0>) tensor(36., grad_fn=<MeanBackward0>)\n"
     ]
    }
   ],
   "source": [
    "z = y * y\n",
    "out = z.mean()\n",
    "print(z, out)"
   ]
  },
  {
   "cell_type": "markdown",
   "metadata": {},
   "source": [
    "계산 완료 후, `.backward()`를 호출하면 자동으로 역전파 계산이 가능하고, `.grad` 속성에 누적됨"
   ]
  },
  {
   "cell_type": "code",
   "execution_count": 9,
   "metadata": {},
   "outputs": [
    {
     "name": "stdout",
     "output_type": "stream",
     "text": [
      "tensor(36., grad_fn=<MeanBackward0>)\n"
     ]
    }
   ],
   "source": [
    "print(out)\n",
    "out.backward()"
   ]
  },
  {
   "cell_type": "markdown",
   "metadata": {},
   "source": [
    "`grad`: data가 거쳐온 layer에 대한 미분값 저장"
   ]
  },
  {
   "cell_type": "code",
   "execution_count": 10,
   "metadata": {},
   "outputs": [
    {
     "name": "stdout",
     "output_type": "stream",
     "text": [
      "tensor([[1., 1., 1.],\n",
      "        [1., 1., 1.],\n",
      "        [1., 1., 1.]], requires_grad=True)\n",
      "tensor([[1.3333, 1.3333, 1.3333],\n",
      "        [1.3333, 1.3333, 1.3333],\n",
      "        [1.3333, 1.3333, 1.3333]])\n"
     ]
    }
   ],
   "source": [
    "print(x)\n",
    "print(x.grad)"
   ]
  },
  {
   "cell_type": "code",
   "execution_count": 18,
   "metadata": {},
   "outputs": [
    {
     "name": "stdout",
     "output_type": "stream",
     "text": [
      "tensor([ 122.8186, 1467.1000, -678.9227], grad_fn=<MulBackward0>)\n"
     ]
    }
   ],
   "source": [
    "x = torch.randn(3, requires_grad=True)\n",
    "y = x * 2\n",
    "\n",
    "while y.data.norm() < 1000:\n",
    "  y = y * 2\n",
    "\n",
    "print(y)"
   ]
  },
  {
   "cell_type": "code",
   "execution_count": 19,
   "metadata": {},
   "outputs": [
    {
     "data": {
      "text/plain": [
       "tensor([1.0000e-01, 1.0000e+00, 1.0000e-04])"
      ]
     },
     "execution_count": 19,
     "metadata": {},
     "output_type": "execute_result"
    }
   ],
   "source": [
    "v = torch.tensor([0.1, 1.0, 0.0001], dtype=torch.float)\n",
    "y.backward(v)\n",
    "v"
   ]
  },
  {
   "cell_type": "markdown",
   "metadata": {},
   "source": [
    "- `with torch.no_grad()`를 사용하여 기울기의 업데이트를 하지 않음\n",
    "- 기록을 추적하는 것을 방지하기 위해 코드 블럭을 `with torch.no_grad()`로 감싸면 기울기 계산은 필요없지만, \n",
    "- `required_grad=True`로 설정되어 학습 가능한 매개변수를 갖는 모델을 평가할 때 유용"
   ]
  },
  {
   "cell_type": "code",
   "execution_count": 21,
   "metadata": {},
   "outputs": [
    {
     "name": "stdout",
     "output_type": "stream",
     "text": [
      "True\n",
      "True\n",
      "False\n"
     ]
    }
   ],
   "source": [
    "print(x.requires_grad)\n",
    "print((x**2).requires_grad)\n",
    "\n",
    "with torch.no_grad():\n",
    "  print((x**2).requires_grad)"
   ]
  },
  {
   "cell_type": "markdown",
   "metadata": {},
   "source": [
    "`detach()`: 내용물은 같지만 새로운 Tensor를 가져올 때"
   ]
  },
  {
   "cell_type": "code",
   "execution_count": 22,
   "metadata": {},
   "outputs": [
    {
     "name": "stdout",
     "output_type": "stream",
     "text": [
      "True\n",
      "False\n",
      "tensor(True)\n"
     ]
    }
   ],
   "source": [
    "print(x.requires_grad)\n",
    "y = x.detach()\n",
    "print(y.requires_grad)\n",
    "print(x.eq(y).all())"
   ]
  },
  {
   "cell_type": "markdown",
   "metadata": {},
   "source": [
    "### 자동 미분 흐름 예제"
   ]
  },
  {
   "cell_type": "code",
   "execution_count": 24,
   "metadata": {},
   "outputs": [
    {
     "name": "stdout",
     "output_type": "stream",
     "text": [
      "tensor([[1., 1.],\n",
      "        [1., 1.]], requires_grad=True)\n",
      "None\n",
      "None\n"
     ]
    }
   ],
   "source": [
    "a = torch.ones(2,2, requires_grad=True)\n",
    "print(a)\n",
    "print(a.grad)\n",
    "print(a.grad_fn)"
   ]
  },
  {
   "cell_type": "markdown",
   "metadata": {},
   "source": [
    "b = a + 2"
   ]
  },
  {
   "cell_type": "code",
   "execution_count": 25,
   "metadata": {},
   "outputs": [
    {
     "name": "stdout",
     "output_type": "stream",
     "text": [
      "tensor([[3., 3.],\n",
      "        [3., 3.]], grad_fn=<AddBackward0>)\n"
     ]
    }
   ],
   "source": [
    "b = a + 2\n",
    "print(b)"
   ]
  },
  {
   "cell_type": "markdown",
   "metadata": {},
   "source": [
    "c = b2"
   ]
  },
  {
   "cell_type": "code",
   "execution_count": 28,
   "metadata": {},
   "outputs": [
    {
     "name": "stdout",
     "output_type": "stream",
     "text": [
      "tensor([[9., 9.],\n",
      "        [9., 9.]], grad_fn=<PowBackward0>)\n"
     ]
    }
   ],
   "source": [
    "c = b ** 2\n",
    "print(c)"
   ]
  },
  {
   "cell_type": "code",
   "execution_count": 29,
   "metadata": {},
   "outputs": [
    {
     "name": "stdout",
     "output_type": "stream",
     "text": [
      "tensor(36., grad_fn=<SumBackward0>)\n"
     ]
    }
   ],
   "source": [
    "out = c.sum()\n",
    "print(out)"
   ]
  },
  {
   "cell_type": "code",
   "execution_count": 31,
   "metadata": {},
   "outputs": [],
   "source": [
    "out.backward()"
   ]
  },
  {
   "cell_type": "code",
   "execution_count": 33,
   "metadata": {},
   "outputs": [
    {
     "name": "stdout",
     "output_type": "stream",
     "text": [
      "tensor([[1., 1.],\n",
      "        [1., 1.]], requires_grad=True)\n",
      "tensor([[6., 6.],\n",
      "        [6., 6.]])\n",
      "None\n"
     ]
    }
   ],
   "source": [
    "print(a)\n",
    "print(a.grad)\n",
    "print(a.grad_fn)"
   ]
  },
  {
   "cell_type": "code",
   "execution_count": 34,
   "metadata": {},
   "outputs": [
    {
     "name": "stdout",
     "output_type": "stream",
     "text": [
      "tensor([[3., 3.],\n",
      "        [3., 3.]], grad_fn=<AddBackward0>)\n",
      "None\n",
      "<AddBackward0 object at 0x000001913A3BA710>\n"
     ]
    },
    {
     "name": "stderr",
     "output_type": "stream",
     "text": [
      "C:\\Users\\Public\\Documents\\ESTsoft\\CreatorTemp\\ipykernel_17928\\1723167935.py:2: UserWarning: The .grad attribute of a Tensor that is not a leaf Tensor is being accessed. Its .grad attribute won't be populated during autograd.backward(). If you indeed want the .grad field to be populated for a non-leaf Tensor, use .retain_grad() on the non-leaf Tensor. If you access the non-leaf Tensor by mistake, make sure you access the leaf Tensor instead. See github.com/pytorch/pytorch/pull/30531 for more informations. (Triggered internally at C:\\cb\\pytorch_1000000000000\\work\\build\\aten\\src\\ATen/core/TensorBody.h:494.)\n",
      "  print(b.grad)\n"
     ]
    }
   ],
   "source": [
    "print(b)\n",
    "print(b.grad)\n",
    "print(b.grad_fn)"
   ]
  },
  {
   "cell_type": "code",
   "execution_count": 35,
   "metadata": {},
   "outputs": [
    {
     "name": "stdout",
     "output_type": "stream",
     "text": [
      "tensor([[9., 9.],\n",
      "        [9., 9.]], grad_fn=<PowBackward0>)\n",
      "None\n",
      "<PowBackward0 object at 0x0000019140E80460>\n"
     ]
    },
    {
     "name": "stderr",
     "output_type": "stream",
     "text": [
      "C:\\Users\\Public\\Documents\\ESTsoft\\CreatorTemp\\ipykernel_17928\\3290463661.py:2: UserWarning: The .grad attribute of a Tensor that is not a leaf Tensor is being accessed. Its .grad attribute won't be populated during autograd.backward(). If you indeed want the .grad field to be populated for a non-leaf Tensor, use .retain_grad() on the non-leaf Tensor. If you access the non-leaf Tensor by mistake, make sure you access the leaf Tensor instead. See github.com/pytorch/pytorch/pull/30531 for more informations. (Triggered internally at C:\\cb\\pytorch_1000000000000\\work\\build\\aten\\src\\ATen/core/TensorBody.h:494.)\n",
      "  print(c.grad)\n"
     ]
    }
   ],
   "source": [
    "print(c)\n",
    "print(c.grad)\n",
    "print(c.grad_fn)"
   ]
  },
  {
   "cell_type": "code",
   "execution_count": 36,
   "metadata": {},
   "outputs": [
    {
     "name": "stdout",
     "output_type": "stream",
     "text": [
      "tensor(36., grad_fn=<SumBackward0>)\n",
      "None\n",
      "<SumBackward0 object at 0x000001913A38D7E0>\n"
     ]
    },
    {
     "name": "stderr",
     "output_type": "stream",
     "text": [
      "C:\\Users\\Public\\Documents\\ESTsoft\\CreatorTemp\\ipykernel_17928\\4170565533.py:2: UserWarning: The .grad attribute of a Tensor that is not a leaf Tensor is being accessed. Its .grad attribute won't be populated during autograd.backward(). If you indeed want the .grad field to be populated for a non-leaf Tensor, use .retain_grad() on the non-leaf Tensor. If you access the non-leaf Tensor by mistake, make sure you access the leaf Tensor instead. See github.com/pytorch/pytorch/pull/30531 for more informations. (Triggered internally at C:\\cb\\pytorch_1000000000000\\work\\build\\aten\\src\\ATen/core/TensorBody.h:494.)\n",
      "  print(out.grad)\n"
     ]
    }
   ],
   "source": [
    "print(out)\n",
    "print(out.grad)\n",
    "print(out.grad_fn)"
   ]
  },
  {
   "cell_type": "code",
   "execution_count": 40,
   "metadata": {},
   "outputs": [
    {
     "data": {
      "text/plain": [
       "tensor([[-1.4404],\n",
       "        [ 1.0335],\n",
       "        [ 2.6938],\n",
       "        [ 1.8650],\n",
       "        [-1.1043],\n",
       "        [ 2.3147],\n",
       "        [ 4.1038],\n",
       "        [ 8.1429],\n",
       "        [ 5.8565],\n",
       "        [ 3.6533],\n",
       "        [ 3.7039],\n",
       "        [ 5.3817],\n",
       "        [ 6.7637],\n",
       "        [ 6.2285],\n",
       "        [ 6.4837],\n",
       "        [ 8.3771],\n",
       "        [ 9.8864],\n",
       "        [ 6.8938],\n",
       "        [ 6.9808],\n",
       "        [ 5.3872],\n",
       "        [ 9.6504],\n",
       "        [ 5.4138],\n",
       "        [ 7.4974],\n",
       "        [ 6.5180],\n",
       "        [10.8007],\n",
       "        [11.5765],\n",
       "        [10.5391],\n",
       "        [ 7.3370],\n",
       "        [11.0872],\n",
       "        [ 9.2197],\n",
       "        [12.3606],\n",
       "        [ 7.2169],\n",
       "        [11.8349],\n",
       "        [ 9.6907],\n",
       "        [11.7957],\n",
       "        [11.6467],\n",
       "        [12.2889],\n",
       "        [12.3079],\n",
       "        [13.4343],\n",
       "        [10.1868],\n",
       "        [16.7263],\n",
       "        [16.3540],\n",
       "        [12.1526],\n",
       "        [11.0042],\n",
       "        [14.2014],\n",
       "        [16.8599],\n",
       "        [17.4709],\n",
       "        [13.9137],\n",
       "        [20.9931],\n",
       "        [18.1637],\n",
       "        [17.2470],\n",
       "        [14.8962],\n",
       "        [16.9908],\n",
       "        [19.1514],\n",
       "        [19.4135],\n",
       "        [17.6062],\n",
       "        [19.3156],\n",
       "        [19.8898],\n",
       "        [14.9254],\n",
       "        [17.9136],\n",
       "        [19.4565],\n",
       "        [18.9934],\n",
       "        [20.3745],\n",
       "        [22.1258],\n",
       "        [23.2332],\n",
       "        [18.8603],\n",
       "        [23.0790],\n",
       "        [19.3210],\n",
       "        [20.4877],\n",
       "        [21.9314],\n",
       "        [23.4273],\n",
       "        [23.0762],\n",
       "        [23.2400],\n",
       "        [26.2238],\n",
       "        [23.5258],\n",
       "        [21.3121],\n",
       "        [22.1867],\n",
       "        [24.1121],\n",
       "        [26.2610],\n",
       "        [28.7237],\n",
       "        [24.1923],\n",
       "        [25.8232],\n",
       "        [27.7306],\n",
       "        [30.0425],\n",
       "        [25.2476],\n",
       "        [32.1233],\n",
       "        [28.0755],\n",
       "        [28.8893],\n",
       "        [27.5890],\n",
       "        [28.8533],\n",
       "        [27.6905],\n",
       "        [29.6218],\n",
       "        [29.9398],\n",
       "        [25.9648],\n",
       "        [26.9197],\n",
       "        [33.6426],\n",
       "        [32.1985],\n",
       "        [30.7079],\n",
       "        [32.6990],\n",
       "        [35.5496]])"
      ]
     },
     "execution_count": 40,
     "metadata": {},
     "output_type": "execute_result"
    }
   ],
   "source": [
    "x = torch.linspace(0, 10, 100).view(-1, 1)\n",
    "y = 3 * x + 2 + torch.randn(100, 1) * 2  # 노이즈 추가\n",
    "y"
   ]
  },
  {
   "cell_type": "code",
   "execution_count": 47,
   "metadata": {},
   "outputs": [
    {
     "name": "stdout",
     "output_type": "stream",
     "text": [
      "Epoch [100/1000], Loss: 4.1846\n",
      "Epoch [200/1000], Loss: 4.1716\n",
      "Epoch [300/1000], Loss: 4.1668\n",
      "Epoch [400/1000], Loss: 4.1651\n",
      "Epoch [500/1000], Loss: 4.1644\n",
      "Epoch [600/1000], Loss: 4.1642\n",
      "Epoch [700/1000], Loss: 4.1641\n",
      "Epoch [800/1000], Loss: 4.1641\n",
      "Epoch [900/1000], Loss: 4.1640\n",
      "Epoch [1000/1000], Loss: 4.1640\n"
     ]
    },
    {
     "data": {
      "image/png": "[encoded data removed]",
      "text/plain": [
       "<Figure size 1000x500 with 2 Axes>"
      ]
     },
     "metadata": {},
     "output_type": "display_data"
    },
    {
     "name": "stdout",
     "output_type": "stream",
     "text": [
      "Model Parameters:\n",
      "linear.weight: tensor([[2.9838]])\n",
      "linear.bias: tensor([1.5950])\n"
     ]
    }
   ],
   "source": [
    "import torch\n",
    "import torch.nn as nn\n",
    "import torch.optim as optim\n",
    "import matplotlib.pyplot as plt\n",
    "\n",
    "# 1. 데이터 생성\n",
    "# y = 3x + 2 + noise\n",
    "# Training set\n",
    "x = torch.linspace(0, 10, 100).view(-1, 1)  # 100개의 데이터를 1열로 변환\n",
    "# 정답 레이블\n",
    "y = 3 * x + 2 + torch.randn(100, 1) * 2  # 노이즈 추가\n",
    "\n",
    "# 2. 선형 모델 정의\n",
    "class LinearRegressionModel(nn.Module):\n",
    "    def __init__(self):\n",
    "        super(LinearRegressionModel, self).__init__()\n",
    "        self.linear = nn.Linear(1, 1)  # 입력 1개, 출력 1개\n",
    "\n",
    "    def forward(self, x):\n",
    "        return self.linear(x)\n",
    "\n",
    "model = LinearRegressionModel()\n",
    "\n",
    "# 3. 손실 함수와 옵티마이저 설정\n",
    "criterion = nn.MSELoss()  # 평균 제곱 오차\n",
    "optimizer = optim.SGD(model.parameters(), lr=0.01)  # 확률적 경사 하강법\n",
    "\n",
    "# 4. 학습 루프\n",
    "epochs = 1000 # 하이퍼 파라미터\n",
    "losses = []\n",
    "\n",
    "for epoch in range(epochs):\n",
    "    optimizer.zero_grad()  # 기울기 초기화\n",
    "    outputs = model(x)  # Training Set에 따라 예측값 계산\n",
    "    loss = criterion(outputs, y)  # 레이블과 비교한 손실 계산\n",
    "    loss.backward()  # 역전파\n",
    "    optimizer.step()  # 가중치 업데이트\n",
    "\n",
    "    losses.append(loss.item())\n",
    "\n",
    "    if (epoch + 1) % 100 == 0:\n",
    "        print(f\"Epoch [{epoch + 1}/{epochs}], Loss: {loss.item():.4f}\")\n",
    "\n",
    "# 5. 결과 시각화\n",
    "plt.figure(figsize=(10, 5))\n",
    "\n",
    "# 손실 감소 그래프\n",
    "plt.subplot(1, 2, 1)\n",
    "plt.ylim(0,5)\n",
    "plt.plot(losses)\n",
    "plt.title('Loss Over Epochs')\n",
    "plt.xlabel('Epoch')\n",
    "plt.ylabel('Loss')\n",
    "\n",
    "# 데이터와 예측 결과 시각화\n",
    "plt.subplot(1, 2, 2)\n",
    "plt.scatter(x.numpy(), y.numpy(), label='Original Data')\n",
    "plt.plot(x.numpy(), model(x).detach().numpy(), color='red', label='Fitted Line')\n",
    "plt.title('Linear Regression Fit')\n",
    "plt.xlabel('x')\n",
    "plt.ylabel('y')\n",
    "plt.legend()\n",
    "\n",
    "plt.show()\n",
    "\n",
    "# 최종 모델 파라미터 확인\n",
    "print(\"Model Parameters:\")\n",
    "for name, param in model.named_parameters():\n",
    "    print(f\"{name}: {param.data}\")\n"
   ]
  },
  {
   "cell_type": "code",
   "execution_count": null,
   "metadata": {},
   "outputs": [
    {
     "name": "stdout",
     "output_type": "stream",
     "text": [
      "epoch: 100 / 1000, loss:  3.4427\n",
      "epoch: 200 / 1000, loss:  3.4321\n",
      "epoch: 300 / 1000, loss:  3.4224\n",
      "epoch: 400 / 1000, loss:  3.4133\n",
      "epoch: 500 / 1000, loss:  3.4049\n",
      "epoch: 600 / 1000, loss:  3.3971\n",
      "epoch: 700 / 1000, loss:  3.3898\n",
      "epoch: 800 / 1000, loss:  3.3830\n",
      "epoch: 900 / 1000, loss:  3.3767\n",
      "epoch: 1000 / 1000, loss:  3.3709\n"
     ]
    },
    {
     "data": {
      "image/png": "[encoded data removed]",
      "text/plain": [
       "<Figure size 1000x500 with 2 Axes>"
      ]
     },
     "metadata": {},
     "output_type": "display_data"
    },
    {
     "name": "stdout",
     "output_type": "stream",
     "text": [
      "linear.weight Parameter containing:\n",
      "tensor([[3.1163]], requires_grad=True)\n",
      "linear.bias Parameter containing:\n",
      "tensor([1.4797], requires_grad=True)\n"
     ]
    }
   ],
   "source": [
    "import torch\n",
    "import torch.nn as nn\n",
    "import torch.optim as optim\n",
    "import matplotlib.pyplot as plt\n",
    "\n",
    "# 데이터 입출력\n",
    "x = torch.linspace(1,10,100).view(-1,1)\n",
    "y = 3 * x + 2 + torch.randn(100,1) * 2\n",
    "\n",
    "# 모델 정의\n",
    "class LinearRegressionModel(nn.Module):\n",
    "  def __init__(self):\n",
    "    super().__init__()\n",
    "    self.linear = nn.Linear(1, 1)\n",
    "\n",
    "  def forward(self, x):\n",
    "    return self.linear(x)\n",
    "\n",
    "model = LinearRegressionModel()\n",
    "\n",
    "# 손실함수 정의\n",
    "loss_function = nn.MSELoss()\n",
    "\n",
    "# 학습진행 및 가중치 업데이트, 가중치랑 편향 넣어줘야 함\n",
    "optimizer = optim.SGD(model.parameters(), lr=0.001)\n",
    "epochs = 1000\n",
    "losses = []\n",
    "\n",
    "for epoch in range(epochs):\n",
    "  optimizer.zero_grad()\n",
    "  outputs = model(x)\n",
    "  loss = loss_function(outputs, y)\n",
    "  loss.backward()\n",
    "  optimizer.step()\n",
    "\n",
    "  losses.append(loss.item())\n",
    "\n",
    "  if (epoch+1) % 100 == 0:\n",
    "    print(f\"epoch: {epoch+1} / {epochs}, loss: {loss: .4f}\")\n",
    "\n",
    "plt.figure(figsize=(10,5))\n",
    "\n",
    "# 손실 그래프\n",
    "plt.subplot(1,2,1)\n",
    "plt.plot(losses)\n",
    "plt.ylim(0,5)\n",
    "plt.title(\"Loss\")\n",
    "plt.xlabel(\"epoch\")\n",
    "plt.ylabel(\"loss\")\n",
    "\n",
    "# 데이터\n",
    "plt.subplot(1,2,2)\n",
    "plt.scatter(range(len(y)), y.numpy(), label=\"Actual\", color=\"blue\")\n",
    "plt.plot(range(len(x)), model(x).detach().numpy(), label=\"Actual\", color=\"red\")\n",
    "plt.title(\"Linear Regression\")\n",
    "plt.xlabel(\"length\")\n",
    "plt.ylabel(\"value\")\n",
    "plt.legend()\n",
    "plt.show()\n",
    "\n",
    "print(\"Model Parameters:\")\n",
    "for name, params in model.named_parameters():\n",
    "  print(name, params)"
   ]
  },
  {
   "cell_type": "code",
   "execution_count": 35,
   "metadata": {},
   "outputs": [
    {
     "name": "stdout",
     "output_type": "stream",
     "text": [
      "Epoch [100/1000], Loss: 4.7936\n",
      "Epoch [200/1000], Loss: 3.9002\n",
      "Epoch [300/1000], Loss: 3.5287\n",
      "Epoch [400/1000], Loss: 3.2370\n",
      "Epoch [500/1000], Loss: 3.0057\n",
      "Epoch [600/1000], Loss: 2.8223\n",
      "Epoch [700/1000], Loss: 2.6767\n",
      "Epoch [800/1000], Loss: 2.5610\n",
      "Epoch [900/1000], Loss: 2.4691\n",
      "Epoch [1000/1000], Loss: 2.3960\n",
      "\n",
      "학습된 모델의 파라미터:\n",
      "Weights: tensor([[0.2075, 0.3705, 0.0312]])\n",
      "Bias: tensor([0.3249])\n"
     ]
    },
    {
     "data": {
      "image/png": "[encoded data removed]",
      "text/plain": [
       "<Figure size 1000x500 with 1 Axes>"
      ]
     },
     "metadata": {},
     "output_type": "display_data"
    },
    {
     "data": {
      "image/png": "[encoded data removed]",
      "text/plain": [
       "<Figure size 1000x500 with 1 Axes>"
      ]
     },
     "metadata": {},
     "output_type": "display_data"
    }
   ],
   "source": [
    "import torch\n",
    "import torch.nn as nn\n",
    "import torch.optim as optim\n",
    "import matplotlib.pyplot as plt\n",
    "\n",
    "# 데이터 정의 (10개 샘플)\n",
    "X = torch.tensor([[50.0, 25.0, 30.0],\n",
    "                  [10.0, 20.0, 25.0],\n",
    "                  [5.0, 22.0, 30.0],\n",
    "                  [30.0, 26.0, 28.0],\n",
    "                  [40.0, 15.0, 28.0],\n",
    "                  [60.0, 35.0, 40.0],\n",
    "                  [70.0, 30.0, 35.0],\n",
    "                  [20.0, 15.0, 20.0],\n",
    "                  [25.0, 18.0, 22.0],\n",
    "                  [45.0, 28.0, 30.0]], dtype=torch.float32)\n",
    "\n",
    "y = torch.tensor([[22.1], [10.4], [9.3], [18.5], [12.9], \n",
    "                  [25.0], [27.5], [13.0], [15.0], [20.5]], dtype=torch.float32)\n",
    "\n",
    "# 모델 정의\n",
    "class MultipleLinearRegression(nn.Module):\n",
    "    def __init__(self):\n",
    "        super().__init__()\n",
    "        self.linear = nn.Linear(3, 1)  # 입력 3개, 출력 1개\n",
    "\n",
    "    def forward(self, x):\n",
    "        return self.linear(x)\n",
    "\n",
    "model = MultipleLinearRegression()\n",
    "\n",
    "# 손실 함수 및 최적화 알고리즘\n",
    "loss_function = nn.MSELoss()\n",
    "optimizer = optim.SGD(model.parameters(), lr=0.0001)\n",
    "\n",
    "# 학습\n",
    "epochs = 1000\n",
    "loss_history = []\n",
    "for epoch in range(epochs):\n",
    "    predictions = model(X)\n",
    "    loss = loss_function(predictions, y)\n",
    "    loss_history.append(loss.item())\n",
    "    optimizer.zero_grad()\n",
    "    loss.backward()\n",
    "    optimizer.step()\n",
    "\n",
    "    if (epoch + 1) % 100 == 0:\n",
    "        print(f\"Epoch [{epoch+1}/{epochs}], Loss: {loss.item():.4f}\")\n",
    "\n",
    "# 학습 결과 확인\n",
    "print(\"\\n학습된 모델의 파라미터:\")\n",
    "print(f\"Weights: {model.linear.weight.data}\")\n",
    "print(f\"Bias: {model.linear.bias.data}\")\n",
    "\n",
    "# 시각화: 손실값 변화\n",
    "plt.figure(figsize=(10, 5))\n",
    "plt.plot(range(1, epochs + 1), loss_history)\n",
    "plt.xlabel('Epoch')\n",
    "plt.ylabel('Loss')\n",
    "plt.title('Training Loss Over Epochs')\n",
    "plt.grid(True)\n",
    "plt.show()\n",
    "\n",
    "# 실제 값과 예측 값 비교\n",
    "predicted = model(X).detach().numpy()\n",
    "actual = y.numpy()\n",
    "\n",
    "plt.figure(figsize=(10, 5))\n",
    "plt.scatter(range(len(actual)), actual, label='Actual', color='blue', s=100)\n",
    "plt.scatter(range(len(predicted)), predicted, label='Predicted', color='red', s=100)\n",
    "plt.xlabel('Data Index')\n",
    "plt.ylabel('Sales')\n",
    "plt.title('Actual vs Predicted Sales')\n",
    "plt.legend()\n",
    "plt.grid(True)\n",
    "plt.show()"
   ]
  }
 ],
 "metadata": {
  "kernelspec": {
   "display_name": "torch_env",
   "language": "python",
   "name": "python3"
  },
  "language_info": {
   "codemirror_mode": {
    "name": "ipython",
    "version": 3
   },
   "file_extension": ".py",
   "mimetype": "text/x-python",
   "name": "python",
   "nbconvert_exporter": "python",
   "pygments_lexer": "ipython3",
   "version": "3.12.8"
  }
 },
 "nbformat": 4,
 "nbformat_minor": 2
}
