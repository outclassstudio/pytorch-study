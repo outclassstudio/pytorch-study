{
 "cells": [
  {
   "cell_type": "markdown",
   "metadata": {},
   "source": [
    "## 텐서의 연산"
   ]
  },
  {
   "cell_type": "code",
   "execution_count": 1,
   "metadata": {},
   "outputs": [],
   "source": [
    "import torch\n",
    "import math"
   ]
  },
  {
   "cell_type": "markdown",
   "metadata": {},
   "source": [
    "### 산술 연산"
   ]
  },
  {
   "cell_type": "code",
   "execution_count": null,
   "metadata": {},
   "outputs": [],
   "source": [
    "a = torch.rand(1,2)\n",
    "a = a * 2\n",
    "print(a)\n",
    "a = a - 1\n",
    "print(a)"
   ]
  },
  {
   "cell_type": "code",
   "execution_count": 34,
   "metadata": {},
   "outputs": [
    {
     "name": "stdout",
     "output_type": "stream",
     "text": [
      "tensor([[0.0731, 0.8669],\n",
      "        [0.1313, 0.3405]])\n",
      "tensor([[0.1104, 0.1253],\n",
      "        [0.4537, 0.0223]])\n"
     ]
    },
    {
     "data": {
      "text/plain": [
       "tensor([[0.1835, 0.9923],\n",
       "        [0.5850, 0.3629]])"
      ]
     },
     "execution_count": 34,
     "metadata": {},
     "output_type": "execute_result"
    }
   ],
   "source": [
    "x = torch.rand(2,2)\n",
    "y = torch.rand(2,2)\n",
    "\n",
    "# in-place(바꿔치기) 연산\n",
    "y.add_(x)\n",
    "print(y)"
   ]
  },
  {
   "cell_type": "code",
   "execution_count": 35,
   "metadata": {},
   "outputs": [
    {
     "name": "stdout",
     "output_type": "stream",
     "text": [
      "tensor([[0.7110, 0.3416],\n",
      "        [0.4325, 0.8710]])\n",
      "tensor([[0.0622, 0.5248],\n",
      "        [0.1358, 0.4043]])\n",
      "tensor([[ 0.6487, -0.1833],\n",
      "        [ 0.2966,  0.4668]]) tensor([[ 0.6487, -0.1833],\n",
      "        [ 0.2966,  0.4668]])\n"
     ]
    }
   ],
   "source": [
    "x = torch.rand(2,2)\n",
    "y = torch.rand(2,2)\n",
    "add = torch.add(x,y)\n",
    "print(x + y, add) # 더하기\n",
    "\n",
    "sub = torch.sub(x,y)\n",
    "print(x - y, sub) # 빼기\n",
    "\n",
    "mul = torch.mul(x,y)\n",
    "print(x * y, mul) # 곱하기\n",
    "\n",
    "div = torch.div(x,y)\n",
    "print(x / y, div) # 나누기"
   ]
  },
  {
   "cell_type": "code",
   "execution_count": 36,
   "metadata": {},
   "outputs": [
    {
     "name": "stdout",
     "output_type": "stream",
     "text": [
      "tensor([[0.0419, 0.1128],\n",
      "        [0.7160, 0.3204]])\n",
      "tensor([[0.5309, 0.1133],\n",
      "        [0.0831, 0.3457]])\n",
      "tensor([[0.0222, 0.0128],\n",
      "        [0.0595, 0.1108]]) tensor([[0.0222, 0.0128],\n",
      "        [0.0595, 0.1108]])\n"
     ]
    }
   ],
   "source": [
    "x = torch.rand(2,2)\n",
    "print(x)\n",
    "y = torch.rand(2,2)\n",
    "print(y)\n",
    "z = torch.mul(x,y)\n",
    "print(x*y, z)"
   ]
  },
  {
   "cell_type": "code",
   "execution_count": 37,
   "metadata": {},
   "outputs": [
    {
     "name": "stdout",
     "output_type": "stream",
     "text": [
      "tensor([[0.9466, 0.2671],\n",
      "        [0.8045, 0.1105]])\n",
      "tensor([[0.3965, 0.9638],\n",
      "        [0.6947, 0.9671]])\n",
      "tensor([[2.3874, 0.2772],\n",
      "        [1.1580, 0.1143]]) tensor([[2.3874, 0.2772],\n",
      "        [1.1580, 0.1143]])\n"
     ]
    }
   ],
   "source": [
    "x = torch.rand(2,2)\n",
    "print(x)\n",
    "y = torch.rand(2,2)\n",
    "print(y)\n",
    "z = torch.div(x,y)\n",
    "print(x/y, z)"
   ]
  },
  {
   "cell_type": "markdown",
   "metadata": {},
   "source": [
    "### 각종 연산"
   ]
  },
  {
   "cell_type": "code",
   "execution_count": null,
   "metadata": {},
   "outputs": [],
   "source": [
    "print(\"절대값\", torch.abs(a))\n",
    "print(\"올림\", torch.ceil(a))\n",
    "print(\"반올림\", torch.round(a))\n",
    "print(\"내림\", torch.floor(a))\n",
    "print(\"클램프\", torch.clamp(a, -0.5, 0.5)) # 조이는 기계"
   ]
  },
  {
   "cell_type": "code",
   "execution_count": 38,
   "metadata": {},
   "outputs": [
    {
     "name": "stdout",
     "output_type": "stream",
     "text": [
      "tensor([[-1.0278, -0.8444],\n",
      "        [ 0.9349,  0.4557]])\n",
      "최소값 tensor(-0.4068)\n",
      "최대값 tensor(0.6218)\n",
      "평균값 tensor(0.1075)\n",
      "표준편차 tensor(0.7273)\n",
      "모든 원소의 합 tensor(-0.4816)\n",
      "모든 원소의 곱 tensor(0.3698)\n",
      "유니크한 값만 선택(중복제거) tensor([1, 2, 3])\n"
     ]
    }
   ],
   "source": [
    "b = torch.randn(2,2)\n",
    "print(\"최소값\", torch.min(a))\n",
    "print(\"최대값\", torch.max(a))\n",
    "print(\"평균값\", torch.mean(a))\n",
    "print(\"표준편차\", torch.std(a))\n",
    "print(\"모든 원소의 합\", torch.sum(b))\n",
    "print(\"모든 원소의 합\", torch.sum(b, dim=0)) # dim 0 첫번째 차원, dim 1 두번째 차원\n",
    "print(\"모든 원소의 곱\", torch.prod(b))\n",
    "print(\"유니크한 값만 선택(중복제거)\", torch.unique(torch.tensor([1,2,3,1,2,3,1,1,2,2])))"
   ]
  },
  {
   "cell_type": "markdown",
   "metadata": {},
   "source": [
    "### argmax, argmin"
   ]
  },
  {
   "cell_type": "code",
   "execution_count": 28,
   "metadata": {},
   "outputs": [
    {
     "data": {
      "text/plain": [
       "torch.return_types.max(\n",
       "values=tensor([0.2836, 0.3834]),\n",
       "indices=tensor([1, 1]))"
      ]
     },
     "execution_count": 28,
     "metadata": {},
     "output_type": "execute_result"
    }
   ],
   "source": [
    "x = torch.rand(2,2)\n",
    "# print(x)\n",
    "# print(x.max(dim=0))\n",
    "# print(x.max(dim=1))\n",
    "indicies = x.max(dim=1)\n",
    "indicies"
   ]
  },
  {
   "cell_type": "markdown",
   "metadata": {},
   "source": [
    "### 내적(dot product)"
   ]
  },
  {
   "cell_type": "code",
   "execution_count": 40,
   "metadata": {},
   "outputs": [
    {
     "name": "stdout",
     "output_type": "stream",
     "text": [
      "tensor([[0.6591, 0.7992],\n",
      "        [0.4335, 0.9306]])\n",
      "tensor([[0.3994, 0.0899],\n",
      "        [0.1808, 0.4723]])\n",
      "tensor([[0.4077, 0.4367],\n",
      "        [0.3413, 0.4784]])\n",
      "torch.return_types.svd(\n",
      "U=tensor([[-0.7129, -0.7012],\n",
      "        [-0.7012,  0.7129]]),\n",
      "S=tensor([0.8362, 0.0550]),\n",
      "V=tensor([[-0.6338, -0.7735],\n",
      "        [-0.7735,  0.6338]]))\n"
     ]
    }
   ],
   "source": [
    "x = torch.rand(2,2)\n",
    "print(x)\n",
    "y = torch.rand(2,2)\n",
    "print(y)\n",
    "z = torch.matmul(x,y)\n",
    "print(z)\n",
    "w = torch.svd(z)\n",
    "print(w)"
   ]
  }
 ],
 "metadata": {
  "kernelspec": {
   "display_name": "torch-env",
   "language": "python",
   "name": "python3"
  },
  "language_info": {
   "codemirror_mode": {
    "name": "ipython",
    "version": 3
   },
   "file_extension": ".py",
   "mimetype": "text/x-python",
   "name": "python",
   "nbconvert_exporter": "python",
   "pygments_lexer": "ipython3",
   "version": "3.12.8"
  }
 },
 "nbformat": 4,
 "nbformat_minor": 2
}
